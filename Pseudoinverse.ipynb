{
 "cells": [
  {
   "cell_type": "code",
   "execution_count": 408,
   "metadata": {},
   "outputs": [],
   "source": [
    "import numpy as np\n",
    "import pandas as pd\n",
    "from matplotlib import pyplot as plt"
   ]
  },
  {
   "cell_type": "code",
   "execution_count": 409,
   "metadata": {},
   "outputs": [],
   "source": [
    "def delta(t1,t2):\n",
    "    return((t2-t1).days/360)\n",
    "\n",
    "class DISC_Curve:\n",
    "    def __init__(self,_spot_date,_zeros,_mat):\n",
    "        self.spot_date=_spot_date\n",
    "        self.zeros=_zeros\n",
    "        self.mat=_mat\n",
    "        self.tenors= [delta(spot_date,i) for i in _mat]\n",
    "        self.libors=[((1/pv)-1)/t for (pv,t) in zip(_zeros,self.tenors)]\n",
    "        \n",
    "    def get_zero(self,maturity):\n",
    "        t=delta(self.spot_date,maturity)\n",
    "        l=np.interp(t,self.tenors,self.libors)\n",
    "        return(1/(1+l*t))\n",
    "    \n",
    "    def get_libor(self,maturity):\n",
    "        t=delta(self.spot_date,maturity)\n",
    "        return(np.interp(t,self.tenors,self.libors))\n",
    "    \n",
    "    def set_node(self,zero, mat_date):\n",
    "        self.zeros.append(zero)\n",
    "        self.mat.append(mat_date)\n",
    "        tenor=delta(self.spot_date,mat_date)\n",
    "        self.tenors.append(tenor)\n",
    "        self.libors.append(((1/zero)-1)/tenor)\n",
    "    \n",
    "    def get_fwd(self,reset_date,maturity_date):\n",
    "        return(((self.get_zero(reset_date)/self.get_zero(maturity_date))-1)/delta(reset_date,maturity_date))\n",
    "        "
   ]
  },
  {
   "cell_type": "code",
   "execution_count": 410,
   "metadata": {},
   "outputs": [],
   "source": [
    "mkt_data=pd.read_csv('C:/Users/claud/OneDrive/Escritorio/prueba.csv')\n",
    "pmts=pd.read_csv('C:/Users/claud/OneDrive/Escritorio/pagos instrumentos.csv')\n",
    "spot_date=pd.to_datetime('03/10/2012',format='%d/%m/%Y')\n",
    "mkt_data['Maturity Dates']=pd.to_datetime(mkt_data['Maturity Dates'],format='%d/%m/%Y')\n",
    "pmts.Tenor=pd.to_datetime(pmts.Tenor,format='%d/%m/%Y')\n",
    "\n",
    "def delta(t1,t2):\n",
    "    return((t2-t1).days/360)"
   ]
  },
  {
   "cell_type": "code",
   "execution_count": 411,
   "metadata": {},
   "outputs": [],
   "source": [
    "cash_flows=pd.DataFrame(0.0,index=mkt_data['Maturity Dates'],columns=pmts.Tenor)\n",
    "LIBORS=mkt_data.loc[mkt_data.Source==\"LIBOR\"]\n",
    "FUTURES=mkt_data.loc[mkt_data.Source==\"Futures\"]\n",
    "SWAPS=mkt_data.loc[mkt_data.Source==\"Swap\"]\n",
    "\n",
    "p=np.matrix([1 if (i =='Swap') or (i =='LIBOR') else 0 for i in mkt_data.Source])\n",
    "\n",
    "S=list(pmts.Tenor.loc[pmts.Instrument=='FUT'])\n",
    "U=list(pmts.Tenor.loc[pmts.Instrument=='SWAP'])\n",
    "U.insert(0,spot_date)\n",
    "\n",
    "SWAP_DATES=list(SWAPS['Maturity Dates'])\n",
    "\n",
    "for i in range(len(LIBORS)):\n",
    "    v=LIBORS['Market Quotes'].iloc[i]/100\n",
    "    t=list(LIBORS['Maturity Dates'])[i]\n",
    "    cash_flows[t].loc[t]=1+v*delta(spot_date,t)\n",
    "    \n",
    "for i in range(1,len(S)):\n",
    "    v=1-FUTURES['Market Quotes'].iloc[i-1]/100\n",
    "    cash_flows[S[i-1]].loc[S[i]]=-1\n",
    "    cash_flows[S[i]].loc[S[i]]=1+v*delta(S[i-1],S[i])\n",
    "    \n",
    "for i in range(len(SWAP_DATES)):\n",
    "    v=SWAPS['Market Quotes'].iloc[i]\n",
    "    for j in range(len(U)-1):\n",
    "        if U[j+1]<SWAP_DATES[i]:\n",
    "            cash_flows[U[j+1]].loc[SWAP_DATES[i]]=v*delta(U[j],U[j+1])/100\n",
    "        if U[j+1] == SWAP_DATES[i]:\n",
    "            cash_flows[U[j+1]].loc[SWAP_DATES[i]]=1+v*delta(U[j],U[j+1])/100"
   ]
  },
  {
   "cell_type": "code",
   "execution_count": 446,
   "metadata": {},
   "outputs": [
    {
     "data": {
      "text/plain": [
       "0    2.531068\n",
       "dtype: float64"
      ]
     },
     "execution_count": 446,
     "metadata": {},
     "output_type": "execute_result"
    }
   ],
   "source": [
    "x=np.zeros((np.size(C[0,]),1))\n",
    "x[0]=1\n",
    "\n",
    "C=np.matrix(cash_flows)\n",
    "\n",
    "l=list(cash_flows.columns)\n",
    "l.insert(0,spot_date)\n",
    "\n",
    "W=pd.Series(l).diff()\n",
    "W=np.diag(list(W[1:].apply(lambda x: 1/np.sqrt(x.days/360))))\n",
    "\n",
    "M=np.zeros((np.size(C[0,]),np.size(C[0,])))\n",
    "M[0,0]=1\n",
    "for i in range(1,len(M)):\n",
    "    M[i,i]=1\n",
    "    M[i,i-1]=-1\n",
    "    \n",
    "A=np.matmul(C,np.matmul(np.linalg.inv(M),np.linalg.inv(W)))\n",
    "\n",
    "H=np.matmul(np.transpose(A),np.linalg.inv(np.matmul(A,np.transpose(A))))\n",
    "\n",
    "R=np.matmul(np.matmul(C,np.linalg.inv(M)),x)\n",
    "R=[R[i,0] for i in range(len (R))]\n",
    "          \n",
    "Delta=np.matmul(H,np.transpose(p-R))\n",
    "                \n",
    "DF=pd.DataFrame(np.matmul(np.linalg.inv(M),np.matmul(np.linalg.inv(W),Delta)+x),index=pmts.Tenor)\n",
    "\n",
    "t=delta(DF.index[len(DF.index)-2],DF.index[len(DF.index)-1])\n",
    "100*(DF.loc[DF.index[len(DF.index)-2]]/DF.loc[DF.index[len(DF.index)-1]]-1)/t"
   ]
  }
 ],
 "metadata": {
  "kernelspec": {
   "display_name": "Python 3",
   "language": "python",
   "name": "python3"
  },
  "language_info": {
   "codemirror_mode": {
    "name": "ipython",
    "version": 3
   },
   "file_extension": ".py",
   "mimetype": "text/x-python",
   "name": "python",
   "nbconvert_exporter": "python",
   "pygments_lexer": "ipython3",
   "version": "3.5.5"
  }
 },
 "nbformat": 4,
 "nbformat_minor": 2
}
