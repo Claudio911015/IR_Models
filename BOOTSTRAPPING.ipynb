{
 "cells": [
  {
   "cell_type": "code",
   "execution_count": 187,
   "metadata": {},
   "outputs": [],
   "source": [
    "import numpy as np\n",
    "import pandas as pd\n",
    "from matplotlib import pyplot as plt"
   ]
  },
  {
   "cell_type": "code",
   "execution_count": 3,
   "metadata": {},
   "outputs": [],
   "source": [
    "class instrument:\n",
    "    cash_flows=0\n",
    "    \n",
    "    def PV(self):\n",
    "        return(0)"
   ]
  },
  {
   "cell_type": "code",
   "execution_count": 341,
   "metadata": {},
   "outputs": [],
   "source": [
    "def delta(t1,t2):\n",
    "    return((t2-t1).days/360)\n",
    "\n",
    "class DISC_Curve:\n",
    "    def __init__(self,_spot_date,_zeros,_mat):\n",
    "        self.spot_date=_spot_date\n",
    "        self.zeros=_zeros\n",
    "        self.mat=_mat\n",
    "        self.tenors= [delta(spot_date,i) for i in _mat]\n",
    "        self.libors=[((1/pv)-1)/t for (pv,t) in zip(_zeros,self.tenors)]\n",
    "        \n",
    "    def get_zero(self,maturity):\n",
    "        t=delta(self.spot_date,maturity)\n",
    "        l=np.interp(t,self.tenors,self.libors)\n",
    "        return(1/(1+l*t))\n",
    "    \n",
    "    def set_node(self,zero, mat_date):\n",
    "        self.zeros.append(zero)\n",
    "        self.mat.append(mat_date)\n",
    "        tenor=delta(self.spot_date,mat_date)\n",
    "        self.tenors.append(tenor)\n",
    "        self.libors.append(((1/zero)-1)/tenor)\n",
    "        "
   ]
  },
  {
   "cell_type": "code",
   "execution_count": 467,
   "metadata": {},
   "outputs": [
    {
     "data": {
      "text/plain": [
       "[<matplotlib.lines.Line2D at 0x250335ccd68>]"
      ]
     },
     "execution_count": 467,
     "metadata": {},
     "output_type": "execute_result"
    },
    {
     "data": {
      "image/png": "[encoded data removed]",
      "text/plain": [
       "<Figure size 432x288 with 1 Axes>"
      ]
     },
     "metadata": {},
     "output_type": "display_data"
    }
   ],
   "source": [
    "mkt_data=pd.read_csv('C:/Users/claud/OneDrive/Escritorio/prueba.csv')\n",
    "pmts=pd.read_csv('C:/Users/claud/OneDrive/Escritorio/pagos instrumentos.csv')\n",
    "spot_date=pd.to_datetime('03/10/2012',format='%d/%m/%Y')\n",
    "mkt_data['Maturity Dates']=pd.to_datetime(mkt_data['Maturity Dates'],format='%d/%m/%Y')\n",
    "pmts.Tenor=pd.to_datetime(pmts.Tenor,format='%d/%m/%Y')\n",
    "\n",
    "#last_swp_date=list(mkt_data.iloc[-1:,0])[0]\n",
    "#mkt_data['Maturity Dates']=mkt_data['Maturity Dates'].apply(lambda x: x-spot_date)\n",
    "\n",
    "LIBORS=mkt_data.loc[mkt_data.Source==\"LIBOR\"]\n",
    "FUTURES=mkt_data.loc[mkt_data.Source==\"Futures\"]\n",
    "SWAPS=mkt_data.loc[mkt_data.Source==\"Swap\"]\n",
    "\n",
    "MAT=[i for i in LIBORS['Maturity Dates']]\n",
    "DF=[1/(1+delta(spot_date,i)*j/100) for (i,j) in zip(LIBORS['Maturity Dates'],LIBORS['Market Quotes'])]\n",
    "\n",
    "disc_factor=DISC_Curve(spot_date,DF,MAT)\n",
    "\n",
    "S=list(pmts.Tenor.loc[pmts.Instrument=='FUT'])\n",
    "\n",
    "for i in range(len(reset_dates_fut)-1):\n",
    "    t=delta(S[i],S[i+1])\n",
    "    df=disc_factor.get_zero(S[i])/(1+(1-list(FUTURES['Market Quotes'])[i]/100)*t)\n",
    "    disc_factor.set_node(df,S[i+1])\n",
    "\n",
    "U=list(pmts.Tenor.loc[pmts.Instrument=='SWAP'])\n",
    "\n",
    "swap_mkt_tenor=[delta(spot_date,i) for i in list(SWAPS['Maturity Dates'])]\n",
    "sw=[]    \n",
    "for i in range(len(U)):\n",
    "    sw.append(np.interp(delta(spot_date,U[i]),swap_mkt_tenor,list(SWAPS['Market Quotes']))/100)\n",
    "\n",
    "U.insert(0,spot_date)\n",
    "sw.insert(0,0)\n",
    "\n",
    "for n in range(2,len(reset_dates_swap)):\n",
    "    factor=0\n",
    "    for i in range(1,n):\n",
    "        factor+=disc_factor.get_zero(U[i])*delta(U[i-1],U[i])\n",
    "    df=(1-sw[n]*(factor))/(1+sw[n]*delta(U[n-1],U[n]))\n",
    "    disc_factor.set_node(df,U[n])    \n",
    "plt.plot(disc_factor.zeros)"
   ]
  },
  {
   "cell_type": "code",
   "execution_count": 468,
   "metadata": {},
   "outputs": [
    {
     "data": {
      "text/plain": [
       "[0.9999973611180748,\n",
       " 0.9998936779722423,\n",
       " 0.9994304356994774,\n",
       " 0.9977905591052879,\n",
       " 0.9975759984277284,\n",
       " 0.9969510209099534,\n",
       " 0.9962534497791592,\n",
       " 0.9954205869042108,\n",
       " 0.9904293978118072,\n",
       " 0.9823245469254512,\n",
       " 0.9699424956658134,\n",
       " 0.9532439057414133,\n",
       " 0.9330454065802974,\n",
       " 0.9095485893868868,\n",
       " 0.8868930917186476,\n",
       " 0.8622111366984752,\n",
       " 0.8355823131824788,\n",
       " 0.8125088288861149,\n",
       " 0.7884315590455625,\n",
       " 0.7635605105348499,\n",
       " 0.7379125271571022,\n",
       " 0.7114969937214366,\n",
       " 0.6930109688977559,\n",
       " 0.6746634514380756,\n",
       " 0.6564149540960359,\n",
       " 0.6382757287599647,\n",
       " 0.6202070567592423,\n",
       " 0.6053162995713443,\n",
       " 0.5907011273556508,\n",
       " 0.5763575302582333,\n",
       " 0.5622437714119649,\n",
       " 0.548432144973548,\n",
       " 0.534880267186511,\n",
       " 0.521584271335937,\n",
       " 0.508505342200374,\n",
       " 0.49571032153352645,\n",
       " 0.4831934513603882]"
      ]
     },
     "execution_count": 468,
     "metadata": {},
     "output_type": "execute_result"
    }
   ],
   "source": [
    "disc_factor.zeros"
   ]
  },
  {
   "cell_type": "code",
   "execution_count": 461,
   "metadata": {},
   "outputs": [
    {
     "data": {
      "text/plain": [
       "0.025619805306840847"
      ]
     },
     "execution_count": 461,
     "metadata": {},
     "output_type": "execute_result"
    }
   ],
   "source": [
    "(0.49571032153352645/0.4831934513603882-1)/1.0111111111"
   ]
  }
 ],
 "metadata": {
  "kernelspec": {
   "display_name": "Python 3",
   "language": "python",
   "name": "python3"
  },
  "language_info": {
   "codemirror_mode": {
    "name": "ipython",
    "version": 3
   },
   "file_extension": ".py",
   "mimetype": "text/x-python",
   "name": "python",
   "nbconvert_exporter": "python",
   "pygments_lexer": "ipython3",
   "version": "3.5.5"
  }
 },
 "nbformat": 4,
 "nbformat_minor": 2
}
