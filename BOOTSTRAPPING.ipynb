{
 "cells": [
  {
   "cell_type": "code",
   "execution_count": 11,
   "metadata": {},
   "outputs": [],
   "source": [
    "import numpy as np\n",
    "import pandas as pd\n",
    "from matplotlib import pyplot as plt"
   ]
  },
  {
   "cell_type": "code",
   "execution_count": 45,
   "metadata": {},
   "outputs": [],
   "source": [
    "def delta(t1,t2):\n",
    "    return((t2-t1).days/360)\n",
    "\n",
    "class DISC_Curve:\n",
    "    def __init__(self,_spot_date,_zeros,_mat):\n",
    "        self.spot_date=_spot_date\n",
    "        self.zeros=_zeros\n",
    "        self.mat=_mat\n",
    "        self.tenors= [delta(spot_date,i) for i in _mat]\n",
    "        self.libors=[((1/pv)-1)/t for (pv,t) in zip(_zeros,self.tenors)]\n",
    "        \n",
    "    def get_zero(self,maturity):\n",
    "        t=delta(self.spot_date,maturity)\n",
    "        l=np.interp(t,self.tenors,self.libors)\n",
    "        return(1/(1+l*t))\n",
    "    \n",
    "    def get_libor(self,maturity):\n",
    "        t=delta(self.spot_date,maturity)\n",
    "        return(np.interp(t,self.tenors,self.libors))\n",
    "    \n",
    "    def set_node(self,zero, mat_date):\n",
    "        self.zeros.append(zero)\n",
    "        self.mat.append(mat_date)\n",
    "        tenor=delta(self.spot_date,mat_date)\n",
    "        self.tenors.append(tenor)\n",
    "        self.libors.append(((1/zero)-1)/tenor)\n",
    "    \n",
    "    def get_fwd(self,reset_date,maturity_date):\n",
    "        return(((self.get_zero(reset_date)/self.get_zero(maturity_date))-1)/delta(reset_date,maturity_date))\n",
    "        "
   ]
  },
  {
   "cell_type": "code",
   "execution_count": 48,
   "metadata": {},
   "outputs": [
    {
     "name": "stdout",
     "output_type": "stream",
     "text": [
      "0.02561980530655953\n"
     ]
    }
   ],
   "source": [
    "mkt_data=pd.read_csv('C:/Users/claud/OneDrive/Escritorio/prueba.csv')\n",
    "pmts=pd.read_csv('C:/Users/claud/OneDrive/Escritorio/pagos instrumentos.csv')\n",
    "spot_date=pd.to_datetime('03/10/2012',format='%d/%m/%Y')\n",
    "mkt_data['Maturity Dates']=pd.to_datetime(mkt_data['Maturity Dates'],format='%d/%m/%Y')\n",
    "pmts.Tenor=pd.to_datetime(pmts.Tenor,format='%d/%m/%Y')\n",
    "\n",
    "\n",
    "LIBORS=mkt_data.loc[mkt_data.Source==\"LIBOR\"]\n",
    "FUTURES=mkt_data.loc[mkt_data.Source==\"Futures\"]\n",
    "SWAPS=mkt_data.loc[mkt_data.Source==\"Swap\"]\n",
    "\n",
    "MAT=[i for i in LIBORS['Maturity Dates']]\n",
    "DF=[1/(1+delta(spot_date,i)*j/100) for (i,j) in zip(LIBORS['Maturity Dates'],LIBORS['Market Quotes'])]\n",
    "\n",
    "disc_factor=DISC_Curve(spot_date,DF,MAT)\n",
    "\n",
    "S=list(pmts.Tenor.loc[pmts.Instrument=='FUT'])\n",
    "\n",
    "for i in range(len(S)-1):\n",
    "    t=delta(S[i],S[i+1])\n",
    "    df=disc_factor.get_zero(S[i])/(1+(1-list(FUTURES['Market Quotes'])[i]/100)*t)\n",
    "    disc_factor.set_node(df,S[i+1])\n",
    "\n",
    "U=list(pmts.Tenor.loc[pmts.Instrument=='SWAP'])\n",
    "\n",
    "swap_mkt_tenor=[delta(spot_date,i) for i in list(SWAPS['Maturity Dates'])]\n",
    "\n",
    "sw=[]    \n",
    "for i in range(len(U)):\n",
    "    sw.append(np.interp(delta(spot_date,U[i]),swap_mkt_tenor,list(SWAPS['Market Quotes']))/100)\n",
    "\n",
    "U.insert(0,spot_date)\n",
    "sw.insert(0,0)\n",
    "\n",
    "factor=0\n",
    "for n in range(2,len(U)):    \n",
    "    factor+=disc_factor.get_zero(U[n-1])*delta(U[n-2],U[n-1])\n",
    "    df=(1-sw[n]*factor)/(1+sw[n]*delta(U[n-1],U[n]))\n",
    "    disc_factor.set_node(df,U[n])\n",
    "    \n",
    "print(disc_factor.get_fwd(U[len(U)-2],U[len(U)-1]))"
   ]
  }
 ],
 "metadata": {
  "kernelspec": {
   "display_name": "Python 3",
   "language": "python",
   "name": "python3"
  },
  "language_info": {
   "codemirror_mode": {
    "name": "ipython",
    "version": 3
   },
   "file_extension": ".py",
   "mimetype": "text/x-python",
   "name": "python",
   "nbconvert_exporter": "python",
   "pygments_lexer": "ipython3",
   "version": "3.5.5"
  }
 },
 "nbformat": 4,
 "nbformat_minor": 2
}
